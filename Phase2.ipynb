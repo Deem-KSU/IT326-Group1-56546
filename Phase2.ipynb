{
  "nbformat": 4,
  "nbformat_minor": 0,
  "metadata": {
    "colab": {
      "provenance": [],
      "include_colab_link": true
    },
    "kernelspec": {
      "name": "python3",
      "display_name": "Python 3"
    },
    "language_info": {
      "name": "python"
    }
  },
  "cells": [
    {
      "cell_type": "markdown",
      "metadata": {
        "id": "view-in-github",
        "colab_type": "text"
      },
      "source": [
        "<a href=\"https://colab.research.google.com/github/Deem-KSU/IT326-Group1-56546/blob/main/Phase2.ipynb\" target=\"_parent\"><img src=\"https://colab.research.google.com/assets/colab-badge.svg\" alt=\"Open In Colab\"/></a>"
      ]
    },
    {
      "cell_type": "code",
      "source": [
        "import pandas as pd\n",
        "import kagglehub\n",
        "from kagglehub import KaggleDatasetAdapter\n",
        "\n",
        "path = 'student_depression_dataset.csv'\n",
        "raw_dataset = kagglehub.dataset_load(KaggleDatasetAdapter.PANDAS,\n",
        "  \"adilshamim8/student-depression-dataset\", path)"
      ],
      "metadata": {
        "colab": {
          "base_uri": "https://localhost:8080/"
        },
        "id": "-tgvOXGrGKDj",
        "outputId": "007bb8eb-704a-4bb9-d1f5-92a7cb7c09ba"
      },
      "execution_count": 4,
      "outputs": [
        {
          "output_type": "stream",
          "name": "stdout",
          "text": [
            "Using Colab cache for faster access to the 'student-depression-dataset' dataset.\n"
          ]
        }
      ]
    },
    {
      "cell_type": "markdown",
      "source": [
        "#### 1. Data Analysis:\n",
        "\n",
        "\n",
        "**Statistical Summary:**\n"
      ],
      "metadata": {
        "id": "RII0hQ6AHarS"
      }
    },
    {
      "cell_type": "code",
      "source": [
        "#Financial Stress column is defined as object so we need to convert it to numeric first\n",
        "raw_dataset['Financial Stress'] = pd.to_numeric(raw_dataset['Financial Stress'], errors='coerce')\n",
        "raw_dataset.dropna(subset=['Financial Stress'], inplace=True)\n",
        "\n",
        "# Select only numeric columns that produce meaningful values (For example 'id' attribute doesn't have a meaning here)\n",
        "numeric_cols = raw_dataset[['Age', 'Academic Pressure', 'Work Pressure', 'CGPA', 'Study Satisfaction', 'Job Satisfaction', 'Financial Stress' ]]\n",
        "\n",
        "numeric_cols.describe()"
      ],
      "metadata": {
        "colab": {
          "base_uri": "https://localhost:8080/",
          "height": 300
        },
        "id": "xhAiEpaudoXu",
        "outputId": "c2442bb9-6b99-4e56-c59f-add9acbcfc96"
      },
      "execution_count": 17,
      "outputs": [
        {
          "output_type": "execute_result",
          "data": {
            "text/plain": [
              "                Age  Academic Pressure  Work Pressure          CGPA  \\\n",
              "count  27898.000000       27898.000000   27898.000000  27898.000000   \n",
              "mean      25.822174           3.141336       0.000430      7.656160   \n",
              "std        4.905651           1.381462       0.043994      1.470708   \n",
              "min       18.000000           0.000000       0.000000      0.000000   \n",
              "25%       21.000000           2.000000       0.000000      6.290000   \n",
              "50%       25.000000           3.000000       0.000000      7.770000   \n",
              "75%       30.000000           4.000000       0.000000      8.920000   \n",
              "max       59.000000           5.000000       5.000000     10.000000   \n",
              "\n",
              "       Study Satisfaction  Job Satisfaction  Financial Stress  \n",
              "count        27898.000000      27898.000000      27898.000000  \n",
              "mean             2.943974          0.000681          3.139867  \n",
              "std              1.361122          0.044397          1.437347  \n",
              "min              0.000000          0.000000          1.000000  \n",
              "25%              2.000000          0.000000          2.000000  \n",
              "50%              3.000000          0.000000          3.000000  \n",
              "75%              4.000000          0.000000          4.000000  \n",
              "max              5.000000          4.000000          5.000000  "
            ],
            "text/html": [
              "\n",
              "  <div id=\"df-3a9c5762-8b46-47dd-b0d5-1b716f9df39a\" class=\"colab-df-container\">\n",
              "    <div>\n",
              "<style scoped>\n",
              "    .dataframe tbody tr th:only-of-type {\n",
              "        vertical-align: middle;\n",
              "    }\n",
              "\n",
              "    .dataframe tbody tr th {\n",
              "        vertical-align: top;\n",
              "    }\n",
              "\n",
              "    .dataframe thead th {\n",
              "        text-align: right;\n",
              "    }\n",
              "</style>\n",
              "<table border=\"1\" class=\"dataframe\">\n",
              "  <thead>\n",
              "    <tr style=\"text-align: right;\">\n",
              "      <th></th>\n",
              "      <th>Age</th>\n",
              "      <th>Academic Pressure</th>\n",
              "      <th>Work Pressure</th>\n",
              "      <th>CGPA</th>\n",
              "      <th>Study Satisfaction</th>\n",
              "      <th>Job Satisfaction</th>\n",
              "      <th>Financial Stress</th>\n",
              "    </tr>\n",
              "  </thead>\n",
              "  <tbody>\n",
              "    <tr>\n",
              "      <th>count</th>\n",
              "      <td>27898.000000</td>\n",
              "      <td>27898.000000</td>\n",
              "      <td>27898.000000</td>\n",
              "      <td>27898.000000</td>\n",
              "      <td>27898.000000</td>\n",
              "      <td>27898.000000</td>\n",
              "      <td>27898.000000</td>\n",
              "    </tr>\n",
              "    <tr>\n",
              "      <th>mean</th>\n",
              "      <td>25.822174</td>\n",
              "      <td>3.141336</td>\n",
              "      <td>0.000430</td>\n",
              "      <td>7.656160</td>\n",
              "      <td>2.943974</td>\n",
              "      <td>0.000681</td>\n",
              "      <td>3.139867</td>\n",
              "    </tr>\n",
              "    <tr>\n",
              "      <th>std</th>\n",
              "      <td>4.905651</td>\n",
              "      <td>1.381462</td>\n",
              "      <td>0.043994</td>\n",
              "      <td>1.470708</td>\n",
              "      <td>1.361122</td>\n",
              "      <td>0.044397</td>\n",
              "      <td>1.437347</td>\n",
              "    </tr>\n",
              "    <tr>\n",
              "      <th>min</th>\n",
              "      <td>18.000000</td>\n",
              "      <td>0.000000</td>\n",
              "      <td>0.000000</td>\n",
              "      <td>0.000000</td>\n",
              "      <td>0.000000</td>\n",
              "      <td>0.000000</td>\n",
              "      <td>1.000000</td>\n",
              "    </tr>\n",
              "    <tr>\n",
              "      <th>25%</th>\n",
              "      <td>21.000000</td>\n",
              "      <td>2.000000</td>\n",
              "      <td>0.000000</td>\n",
              "      <td>6.290000</td>\n",
              "      <td>2.000000</td>\n",
              "      <td>0.000000</td>\n",
              "      <td>2.000000</td>\n",
              "    </tr>\n",
              "    <tr>\n",
              "      <th>50%</th>\n",
              "      <td>25.000000</td>\n",
              "      <td>3.000000</td>\n",
              "      <td>0.000000</td>\n",
              "      <td>7.770000</td>\n",
              "      <td>3.000000</td>\n",
              "      <td>0.000000</td>\n",
              "      <td>3.000000</td>\n",
              "    </tr>\n",
              "    <tr>\n",
              "      <th>75%</th>\n",
              "      <td>30.000000</td>\n",
              "      <td>4.000000</td>\n",
              "      <td>0.000000</td>\n",
              "      <td>8.920000</td>\n",
              "      <td>4.000000</td>\n",
              "      <td>0.000000</td>\n",
              "      <td>4.000000</td>\n",
              "    </tr>\n",
              "    <tr>\n",
              "      <th>max</th>\n",
              "      <td>59.000000</td>\n",
              "      <td>5.000000</td>\n",
              "      <td>5.000000</td>\n",
              "      <td>10.000000</td>\n",
              "      <td>5.000000</td>\n",
              "      <td>4.000000</td>\n",
              "      <td>5.000000</td>\n",
              "    </tr>\n",
              "  </tbody>\n",
              "</table>\n",
              "</div>\n",
              "    <div class=\"colab-df-buttons\">\n",
              "\n",
              "  <div class=\"colab-df-container\">\n",
              "    <button class=\"colab-df-convert\" onclick=\"convertToInteractive('df-3a9c5762-8b46-47dd-b0d5-1b716f9df39a')\"\n",
              "            title=\"Convert this dataframe to an interactive table.\"\n",
              "            style=\"display:none;\">\n",
              "\n",
              "  <svg xmlns=\"http://www.w3.org/2000/svg\" height=\"24px\" viewBox=\"0 -960 960 960\">\n",
              "    <path d=\"M120-120v-720h720v720H120Zm60-500h600v-160H180v160Zm220 220h160v-160H400v160Zm0 220h160v-160H400v160ZM180-400h160v-160H180v160Zm440 0h160v-160H620v160ZM180-180h160v-160H180v160Zm440 0h160v-160H620v160Z\"/>\n",
              "  </svg>\n",
              "    </button>\n",
              "\n",
              "  <style>\n",
              "    .colab-df-container {\n",
              "      display:flex;\n",
              "      gap: 12px;\n",
              "    }\n",
              "\n",
              "    .colab-df-convert {\n",
              "      background-color: #E8F0FE;\n",
              "      border: none;\n",
              "      border-radius: 50%;\n",
              "      cursor: pointer;\n",
              "      display: none;\n",
              "      fill: #1967D2;\n",
              "      height: 32px;\n",
              "      padding: 0 0 0 0;\n",
              "      width: 32px;\n",
              "    }\n",
              "\n",
              "    .colab-df-convert:hover {\n",
              "      background-color: #E2EBFA;\n",
              "      box-shadow: 0px 1px 2px rgba(60, 64, 67, 0.3), 0px 1px 3px 1px rgba(60, 64, 67, 0.15);\n",
              "      fill: #174EA6;\n",
              "    }\n",
              "\n",
              "    .colab-df-buttons div {\n",
              "      margin-bottom: 4px;\n",
              "    }\n",
              "\n",
              "    [theme=dark] .colab-df-convert {\n",
              "      background-color: #3B4455;\n",
              "      fill: #D2E3FC;\n",
              "    }\n",
              "\n",
              "    [theme=dark] .colab-df-convert:hover {\n",
              "      background-color: #434B5C;\n",
              "      box-shadow: 0px 1px 3px 1px rgba(0, 0, 0, 0.15);\n",
              "      filter: drop-shadow(0px 1px 2px rgba(0, 0, 0, 0.3));\n",
              "      fill: #FFFFFF;\n",
              "    }\n",
              "  </style>\n",
              "\n",
              "    <script>\n",
              "      const buttonEl =\n",
              "        document.querySelector('#df-3a9c5762-8b46-47dd-b0d5-1b716f9df39a button.colab-df-convert');\n",
              "      buttonEl.style.display =\n",
              "        google.colab.kernel.accessAllowed ? 'block' : 'none';\n",
              "\n",
              "      async function convertToInteractive(key) {\n",
              "        const element = document.querySelector('#df-3a9c5762-8b46-47dd-b0d5-1b716f9df39a');\n",
              "        const dataTable =\n",
              "          await google.colab.kernel.invokeFunction('convertToInteractive',\n",
              "                                                    [key], {});\n",
              "        if (!dataTable) return;\n",
              "\n",
              "        const docLinkHtml = 'Like what you see? Visit the ' +\n",
              "          '<a target=\"_blank\" href=https://colab.research.google.com/notebooks/data_table.ipynb>data table notebook</a>'\n",
              "          + ' to learn more about interactive tables.';\n",
              "        element.innerHTML = '';\n",
              "        dataTable['output_type'] = 'display_data';\n",
              "        await google.colab.output.renderOutput(dataTable, element);\n",
              "        const docLink = document.createElement('div');\n",
              "        docLink.innerHTML = docLinkHtml;\n",
              "        element.appendChild(docLink);\n",
              "      }\n",
              "    </script>\n",
              "  </div>\n",
              "\n",
              "\n",
              "    <div id=\"df-72cd8b06-8cdb-4efc-bd49-63e8040f9f93\">\n",
              "      <button class=\"colab-df-quickchart\" onclick=\"quickchart('df-72cd8b06-8cdb-4efc-bd49-63e8040f9f93')\"\n",
              "                title=\"Suggest charts\"\n",
              "                style=\"display:none;\">\n",
              "\n",
              "<svg xmlns=\"http://www.w3.org/2000/svg\" height=\"24px\"viewBox=\"0 0 24 24\"\n",
              "     width=\"24px\">\n",
              "    <g>\n",
              "        <path d=\"M19 3H5c-1.1 0-2 .9-2 2v14c0 1.1.9 2 2 2h14c1.1 0 2-.9 2-2V5c0-1.1-.9-2-2-2zM9 17H7v-7h2v7zm4 0h-2V7h2v10zm4 0h-2v-4h2v4z\"/>\n",
              "    </g>\n",
              "</svg>\n",
              "      </button>\n",
              "\n",
              "<style>\n",
              "  .colab-df-quickchart {\n",
              "      --bg-color: #E8F0FE;\n",
              "      --fill-color: #1967D2;\n",
              "      --hover-bg-color: #E2EBFA;\n",
              "      --hover-fill-color: #174EA6;\n",
              "      --disabled-fill-color: #AAA;\n",
              "      --disabled-bg-color: #DDD;\n",
              "  }\n",
              "\n",
              "  [theme=dark] .colab-df-quickchart {\n",
              "      --bg-color: #3B4455;\n",
              "      --fill-color: #D2E3FC;\n",
              "      --hover-bg-color: #434B5C;\n",
              "      --hover-fill-color: #FFFFFF;\n",
              "      --disabled-bg-color: #3B4455;\n",
              "      --disabled-fill-color: #666;\n",
              "  }\n",
              "\n",
              "  .colab-df-quickchart {\n",
              "    background-color: var(--bg-color);\n",
              "    border: none;\n",
              "    border-radius: 50%;\n",
              "    cursor: pointer;\n",
              "    display: none;\n",
              "    fill: var(--fill-color);\n",
              "    height: 32px;\n",
              "    padding: 0;\n",
              "    width: 32px;\n",
              "  }\n",
              "\n",
              "  .colab-df-quickchart:hover {\n",
              "    background-color: var(--hover-bg-color);\n",
              "    box-shadow: 0 1px 2px rgba(60, 64, 67, 0.3), 0 1px 3px 1px rgba(60, 64, 67, 0.15);\n",
              "    fill: var(--button-hover-fill-color);\n",
              "  }\n",
              "\n",
              "  .colab-df-quickchart-complete:disabled,\n",
              "  .colab-df-quickchart-complete:disabled:hover {\n",
              "    background-color: var(--disabled-bg-color);\n",
              "    fill: var(--disabled-fill-color);\n",
              "    box-shadow: none;\n",
              "  }\n",
              "\n",
              "  .colab-df-spinner {\n",
              "    border: 2px solid var(--fill-color);\n",
              "    border-color: transparent;\n",
              "    border-bottom-color: var(--fill-color);\n",
              "    animation:\n",
              "      spin 1s steps(1) infinite;\n",
              "  }\n",
              "\n",
              "  @keyframes spin {\n",
              "    0% {\n",
              "      border-color: transparent;\n",
              "      border-bottom-color: var(--fill-color);\n",
              "      border-left-color: var(--fill-color);\n",
              "    }\n",
              "    20% {\n",
              "      border-color: transparent;\n",
              "      border-left-color: var(--fill-color);\n",
              "      border-top-color: var(--fill-color);\n",
              "    }\n",
              "    30% {\n",
              "      border-color: transparent;\n",
              "      border-left-color: var(--fill-color);\n",
              "      border-top-color: var(--fill-color);\n",
              "      border-right-color: var(--fill-color);\n",
              "    }\n",
              "    40% {\n",
              "      border-color: transparent;\n",
              "      border-right-color: var(--fill-color);\n",
              "      border-top-color: var(--fill-color);\n",
              "    }\n",
              "    60% {\n",
              "      border-color: transparent;\n",
              "      border-right-color: var(--fill-color);\n",
              "    }\n",
              "    80% {\n",
              "      border-color: transparent;\n",
              "      border-right-color: var(--fill-color);\n",
              "      border-bottom-color: var(--fill-color);\n",
              "    }\n",
              "    90% {\n",
              "      border-color: transparent;\n",
              "      border-bottom-color: var(--fill-color);\n",
              "    }\n",
              "  }\n",
              "</style>\n",
              "\n",
              "      <script>\n",
              "        async function quickchart(key) {\n",
              "          const quickchartButtonEl =\n",
              "            document.querySelector('#' + key + ' button');\n",
              "          quickchartButtonEl.disabled = true;  // To prevent multiple clicks.\n",
              "          quickchartButtonEl.classList.add('colab-df-spinner');\n",
              "          try {\n",
              "            const charts = await google.colab.kernel.invokeFunction(\n",
              "                'suggestCharts', [key], {});\n",
              "          } catch (error) {\n",
              "            console.error('Error during call to suggestCharts:', error);\n",
              "          }\n",
              "          quickchartButtonEl.classList.remove('colab-df-spinner');\n",
              "          quickchartButtonEl.classList.add('colab-df-quickchart-complete');\n",
              "        }\n",
              "        (() => {\n",
              "          let quickchartButtonEl =\n",
              "            document.querySelector('#df-72cd8b06-8cdb-4efc-bd49-63e8040f9f93 button');\n",
              "          quickchartButtonEl.style.display =\n",
              "            google.colab.kernel.accessAllowed ? 'block' : 'none';\n",
              "        })();\n",
              "      </script>\n",
              "    </div>\n",
              "\n",
              "    </div>\n",
              "  </div>\n"
            ],
            "application/vnd.google.colaboratory.intrinsic+json": {
              "type": "dataframe",
              "summary": "{\n  \"name\": \"numeric_cols\",\n  \"rows\": 8,\n  \"fields\": [\n    {\n      \"column\": \"Age\",\n      \"properties\": {\n        \"dtype\": \"number\",\n        \"std\": 9854.164718879427,\n        \"min\": 4.905651044767202,\n        \"max\": 27898.0,\n        \"num_unique_values\": 8,\n        \"samples\": [\n          25.82217363251846,\n          25.0,\n          27898.0\n        ],\n        \"semantic_type\": \"\",\n        \"description\": \"\"\n      }\n    },\n    {\n      \"column\": \"Academic Pressure\",\n      \"properties\": {\n        \"dtype\": \"number\",\n        \"std\": 9862.497069560475,\n        \"min\": 0.0,\n        \"max\": 27898.0,\n        \"num_unique_values\": 8,\n        \"samples\": [\n          3.1413362965087104,\n          3.0,\n          27898.0\n        ],\n        \"semantic_type\": \"\",\n        \"description\": \"\"\n      }\n    },\n    {\n      \"column\": \"Work Pressure\",\n      \"properties\": {\n        \"dtype\": \"number\",\n        \"std\": 9863.177863594003,\n        \"min\": 0.0,\n        \"max\": 27898.0,\n        \"num_unique_values\": 5,\n        \"samples\": [\n          0.0004301383611728439,\n          5.0,\n          0.04399439719157949\n        ],\n        \"semantic_type\": \"\",\n        \"description\": \"\"\n      }\n    },\n    {\n      \"column\": \"CGPA\",\n      \"properties\": {\n        \"dtype\": \"number\",\n        \"std\": 9861.306402914794,\n        \"min\": 0.0,\n        \"max\": 27898.0,\n        \"num_unique_values\": 8,\n        \"samples\": [\n          7.656160029392788,\n          7.77,\n          27898.0\n        ],\n        \"semantic_type\": \"\",\n        \"description\": \"\"\n      }\n    },\n    {\n      \"column\": \"Study Satisfaction\",\n      \"properties\": {\n        \"dtype\": \"number\",\n        \"std\": 9862.508064400568,\n        \"min\": 0.0,\n        \"max\": 27898.0,\n        \"num_unique_values\": 8,\n        \"samples\": [\n          2.9439744784572373,\n          3.0,\n          27898.0\n        ],\n        \"semantic_type\": \"\",\n        \"description\": \"\"\n      }\n    },\n    {\n      \"column\": \"Job Satisfaction\",\n      \"properties\": {\n        \"dtype\": \"number\",\n        \"std\": 9863.22828244441,\n        \"min\": 0.0,\n        \"max\": 27898.0,\n        \"num_unique_values\": 5,\n        \"samples\": [\n          0.0006810524051903363,\n          4.0,\n          0.0443967826449146\n        ],\n        \"semantic_type\": \"\",\n        \"description\": \"\"\n      }\n    },\n    {\n      \"column\": \"Financial Stress\",\n      \"properties\": {\n        \"dtype\": \"number\",\n        \"std\": 9862.443780334284,\n        \"min\": 1.0,\n        \"max\": 27898.0,\n        \"num_unique_values\": 8,\n        \"samples\": [\n          3.1398666571080365,\n          3.0,\n          27898.0\n        ],\n        \"semantic_type\": \"\",\n        \"description\": \"\"\n      }\n    }\n  ]\n}"
            }
          },
          "metadata": {},
          "execution_count": 17
        }
      ]
    },
    {
      "cell_type": "markdown",
      "source": [
        "**Five-Number Summary (Minimum, Q1, Median, Q3, Maximum):**"
      ],
      "metadata": {
        "id": "PZEWLmFYdpBD"
      }
    },
    {
      "cell_type": "code",
      "source": [
        "print ('1. Age attribute:\\n\\n''Minimum:', raw_dataset['Age'].min(), ' \\nQ1:', raw_dataset['Age'].quantile(0.25), ' \\nMedian:', raw_dataset['Age'].median(), ' \\nQ3:', raw_dataset['Age'].quantile(0.75), ' \\nMaximum:', raw_dataset['Age'].max())\n",
        "print ('\\n\\n2. Academic Pressure attribute:\\n\\n''Minimum:', raw_dataset['Academic Pressure'].min(), ' \\nQ1:', raw_dataset['Academic Pressure'].quantile(0.25), ' \\nMedian:', raw_dataset['Academic Pressure'].median(), ' \\nQ3:', raw_dataset['Academic Pressure'].quantile(0.75), ' \\nMaximum:', raw_dataset['Academic Pressure'].max())\n",
        "print ('\\n\\n3. Work Pressure attribute:\\n\\n''Minimum:', raw_dataset['Work Pressure'].min(), ' \\nQ1:', raw_dataset['Work Pressure'].quantile(0.25), ' \\nMedian:', raw_dataset['Work Pressure'].median(), ' \\nQ3:', raw_dataset['Work Pressure'].quantile(0.75), ' \\nMaximum:', raw_dataset['Work Pressure'].max())\n",
        "print ('\\n\\n4.CGPA attribute:\\n\\n''Minimum:', raw_dataset['CGPA'].min(), ' \\nQ1:', raw_dataset['CGPA'].quantile(0.25), ' \\nMedian:', raw_dataset['CGPA'].median(), ' \\nQ3:', raw_dataset['CGPA'].quantile(0.75), ' \\nMaximum:', raw_dataset['CGPA'].max())\n",
        "print ('\\n\\n5.Study Satisfaction attribute:\\n\\n''Minimum:', raw_dataset['Study Satisfaction'].min(), ' \\nQ1:', raw_dataset['Study Satisfaction'].quantile(0.25), ' \\nMedian:', raw_dataset['Study Satisfaction'].median(), ' \\nQ3:', raw_dataset['Study Satisfaction'].quantile(0.75), ' \\nMaximum:', raw_dataset['Study Satisfaction'].max())\n",
        "print ('\\n\\n6.Job Satisfaction attribute:\\n\\n''Minimum:', raw_dataset['Job Satisfaction'].min(), ' \\nQ1:', raw_dataset['Job Satisfaction'].quantile(0.25), ' \\nMedian:', raw_dataset['Job Satisfaction'].median(), ' \\nQ3:', raw_dataset['Job Satisfaction'].quantile(0.75), ' \\nMaximum:', raw_dataset['Job Satisfaction'].max())\n",
        "print ('\\n\\n7.Financial Stress attribute:\\n\\n''Minimum:', raw_dataset['Financial Stress'].min(), ' \\nQ1:', raw_dataset['Financial Stress'].quantile(0.25), ' \\nMedian:', raw_dataset['Financial Stress'].median(), ' \\nQ3:', raw_dataset['Financial Stress'].quantile(0.75), ' \\nMaximum:', raw_dataset['Financial Stress'].max())\n"
      ],
      "metadata": {
        "colab": {
          "base_uri": "https://localhost:8080/"
        },
        "id": "uNsjRtJaO3c_",
        "outputId": "0f63bcdb-27da-46e8-933d-4ee423942ba0"
      },
      "execution_count": 11,
      "outputs": [
        {
          "output_type": "stream",
          "name": "stdout",
          "text": [
            "1. Age attribute:\n",
            "\n",
            "Minimum: 18.0  \n",
            "Q1: 21.0  \n",
            "Median: 25.0  \n",
            "Q3: 30.0  \n",
            "Maximum: 59.0\n",
            "\n",
            "\n",
            "2. Academic Pressure attribute:\n",
            "\n",
            "Minimum: 0.0  \n",
            "Q1: 2.0  \n",
            "Median: 3.0  \n",
            "Q3: 4.0  \n",
            "Maximum: 5.0\n",
            "\n",
            "\n",
            "3. Work Pressure attribute:\n",
            "\n",
            "Minimum: 0.0  \n",
            "Q1: 0.0  \n",
            "Median: 0.0  \n",
            "Q3: 0.0  \n",
            "Maximum: 5.0\n",
            "\n",
            "\n",
            "4.CGPA attribute:\n",
            "\n",
            "Minimum: 0.0  \n",
            "Q1: 6.29  \n",
            "Median: 7.77  \n",
            "Q3: 8.92  \n",
            "Maximum: 10.0\n",
            "\n",
            "\n",
            "5.Study Satisfaction attribute:\n",
            "\n",
            "Minimum: 0.0  \n",
            "Q1: 2.0  \n",
            "Median: 3.0  \n",
            "Q3: 4.0  \n",
            "Maximum: 5.0\n",
            "\n",
            "\n",
            "6.Job Satisfaction attribute:\n",
            "\n",
            "Minimum: 0.0  \n",
            "Q1: 0.0  \n",
            "Median: 0.0  \n",
            "Q3: 0.0  \n",
            "Maximum: 4.0\n",
            "\n",
            "\n",
            "7.Financial Stress attribute:\n",
            "\n",
            "Minimum: 1.0  \n",
            "Q1: 2.0  \n",
            "Median: 3.0  \n",
            "Q3: 4.0  \n",
            "Maximum: 5.0\n"
          ]
        }
      ]
    },
    {
      "cell_type": "markdown",
      "source": [
        "\n",
        "**Outliers:**"
      ],
      "metadata": {
        "id": "xXF-Q_chZCFn"
      }
    },
    {
      "cell_type": "code",
      "source": [
        "import numpy as np\n",
        "\n",
        "outliers = {}\n",
        "for col in numeric_cols.columns:\n",
        "    mean = np.mean(numeric_cols[col])\n",
        "    std = np.std(numeric_cols[col])\n",
        "    col_outliers = numeric_cols[col][abs(numeric_cols[col]-mean) > 3 * std]\n",
        "    outliers[col] = col_outliers.tolist()\n",
        "\n",
        "print(\"Outliers number in each numeric column:\")\n",
        "for col, outlier_list in outliers.items():\n",
        "    print(f\"{col}: {len(outlier_list)} outliers\")"
      ],
      "metadata": {
        "colab": {
          "base_uri": "https://localhost:8080/"
        },
        "id": "qItU7BWbfRR8",
        "outputId": "408052c5-07a0-4041-f691-9628c819146d"
      },
      "execution_count": 12,
      "outputs": [
        {
          "output_type": "stream",
          "name": "stdout",
          "text": [
            "Outliers number in each numeric column:\n",
            "Age: 19 outliers\n",
            "Academic Pressure: 0 outliers\n",
            "Work Pressure: 3 outliers\n",
            "CGPA: 9 outliers\n",
            "Study Satisfaction: 0 outliers\n",
            "Job Satisfaction: 8 outliers\n",
            "Financial Stress: 0 outliers\n"
          ]
        }
      ]
    },
    {
      "cell_type": "code",
      "source": [
        "from scipy.stats import zscore\n",
        "import numpy as np\n",
        "\n",
        "z_scores = numeric_cols.apply(zscore)\n",
        "\n",
        "outliers = {}\n",
        "for col in z_scores.columns:\n",
        "    col_outliers = numeric_cols[z_scores[col].abs() > 3][col]\n",
        "    outliers[col] = col_outliers.tolist()\n",
        "\n",
        "print('Outliers values in each numeric column:\\n', outliers)"
      ],
      "metadata": {
        "colab": {
          "base_uri": "https://localhost:8080/"
        },
        "id": "tYuIML68iESH",
        "outputId": "7642a02d-ecce-47d9-c948-5cc56b62929b"
      },
      "execution_count": 13,
      "outputs": [
        {
          "output_type": "stream",
          "name": "stdout",
          "text": [
            "Outliers values in each numeric column:\n",
            " {'Age': [42.0, 58.0, 49.0, 51.0, 44.0, 43.0, 46.0, 59.0, 42.0, 54.0, 48.0, 56.0, 43.0, 46.0, 42.0, 42.0, 48.0, 41.0, 48.0], 'Academic Pressure': [], 'Work Pressure': [5.0, 2.0, 5.0], 'CGPA': [0.0, 0.0, 0.0, 0.0, 0.0, 0.0, 0.0, 0.0, 0.0], 'Study Satisfaction': [], 'Job Satisfaction': [3.0, 4.0, 2.0, 1.0, 1.0, 2.0, 4.0, 2.0], 'Financial Stress': []}\n"
          ]
        }
      ]
    },
    {
      "cell_type": "markdown",
      "source": [
        "**Boxplots:**"
      ],
      "metadata": {
        "id": "bnVvTnMepAnr"
      }
    },
    {
      "cell_type": "code",
      "source": [
        "import seaborn as sns\n",
        "import matplotlib.pyplot as plt\n",
        "\n",
        "raw_dataset.boxplot(column=['Age', 'Academic Pressure', 'Work Pressure', 'CGPA', 'Study Satisfaction', 'Job Satisfaction', 'Financial Stress' ], by='Depression', figsize=(10,6))\n",
        "plt.suptitle('Boxplot for Numeric Attributes Grouped by Depression')\n",
        "plt.show()"
      ],
      "metadata": {
        "colab": {
          "base_uri": "https://localhost:8080/",
          "height": 578
        },
        "id": "7G87nK8Wl4Rv",
        "outputId": "4f6393c1-3a3c-4194-cedb-b33d7cc445e1"
      },
      "execution_count": 18,
      "outputs": [
        {
          "output_type": "display_data",
          "data": {
            "text/plain": [
              "<Figure size 1000x600 with 9 Axes>"
            ],
            "image/png": "[encoded data removed]"
          },
          "metadata": {}
        }
      ]
    },
    {
      "cell_type": "markdown",
      "source": [
        "**Missing Values:**"
      ],
      "metadata": {
        "id": "X6lPq2fDfbGk"
      }
    },
    {
      "cell_type": "code",
      "source": [
        "print ('Missing values in each column: \\n',raw_dataset.isna().sum())"
      ],
      "metadata": {
        "colab": {
          "base_uri": "https://localhost:8080/"
        },
        "id": "fRtwUxmtgYvG",
        "outputId": "acb5a124-70b4-48bb-8794-4ae82a4f6688"
      },
      "execution_count": 19,
      "outputs": [
        {
          "output_type": "stream",
          "name": "stdout",
          "text": [
            "Missing values in each column: \n",
            " id                                       0\n",
            "Gender                                   0\n",
            "Age                                      0\n",
            "City                                     0\n",
            "Profession                               0\n",
            "Academic Pressure                        0\n",
            "Work Pressure                            0\n",
            "CGPA                                     0\n",
            "Study Satisfaction                       0\n",
            "Job Satisfaction                         0\n",
            "Sleep Duration                           0\n",
            "Dietary Habits                           0\n",
            "Degree                                   0\n",
            "Have you ever had suicidal thoughts ?    0\n",
            "Work/Study Hours                         0\n",
            "Financial Stress                         0\n",
            "Family History of Mental Illness         0\n",
            "Depression                               0\n",
            "dtype: int64\n"
          ]
        }
      ]
    },
    {
      "cell_type": "markdown",
      "source": [
        "**Aggregated Data:**"
      ],
      "metadata": {
        "id": "0GqhMmgsiHrg"
      }
    },
    {
      "cell_type": "code",
      "source": [
        "print ('Agregated data by Depression attribute:\\n', raw_dataset.groupby('Depression')[numeric_cols.columns].mean())"
      ],
      "metadata": {
        "colab": {
          "base_uri": "https://localhost:8080/"
        },
        "id": "8Y-qvg2NiOsG",
        "outputId": "cee1145c-ea3b-4e86-df28-977ab71c76b7"
      },
      "execution_count": 24,
      "outputs": [
        {
          "output_type": "stream",
          "name": "stdout",
          "text": [
            "Agregated data by Depression attribute:\n",
            "                   Age  Academic Pressure  Work Pressure      CGPA  \\\n",
            "Depression                                                          \n",
            "0           27.142869           2.361757       0.000605  7.617236   \n",
            "1           24.887297           3.693174       0.000306  7.683713   \n",
            "\n",
            "            Study Satisfaction  Job Satisfaction  Financial Stress  \n",
            "Depression                                                          \n",
            "0                     3.215774          0.000865          2.518724  \n",
            "1                     2.751576          0.000551          3.579553  \n"
          ]
        }
      ]
    }
  ]
}