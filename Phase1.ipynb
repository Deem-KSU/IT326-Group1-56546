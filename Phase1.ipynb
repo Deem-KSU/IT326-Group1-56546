{
  "nbformat": 4,
  "nbformat_minor": 0,
  "metadata": {
    "colab": {
      "provenance": [],
      "include_colab_link": true
    },
    "kernelspec": {
      "name": "python3",
      "display_name": "Python 3"
    },
    "language_info": {
      "name": "python"
    }
  },
  "cells": [
    {
      "cell_type": "markdown",
      "metadata": {
        "id": "view-in-github",
        "colab_type": "text"
      },
      "source": [
        "<a href=\"https://colab.research.google.com/github/Deem-KSU/IT326-Group1-56546/blob/main/Phase1.ipynb\" target=\"_parent\"><img src=\"https://colab.research.google.com/assets/colab-badge.svg\" alt=\"Open In Colab\"/></a>"
      ]
    },
    {
      "cell_type": "markdown",
      "source": [
        "#### **Project Goal:**\n",
        " The goal of this project is to use data mining techniques on the Student Depression Dataset.\n",
        "\n",
        " - Classification Task – Predict whether a student is depressed or not ( 0 = No Depression, 1 = Depression) based on different features such as academic, social, and lifestyle factors.\n",
        "\n",
        " - Clustering Task – Group students into clusters with similar characteristics. This can help in finding hidden patterns and risk factors related to student depression.\n",
        "\n",
        "The project will provide insights that may support early detection and awareness of student depression.\n",
        "\n",
        " #### **Dataset Source:**\n",
        " The dataset used in this project is the Student Depression Dataset, which was obtained from Kaggle.  https://www.kaggle.com/datasets/adilshamim8/student-depression-dataset\n",
        "\n",
        "#### **Dataset Description:**\n",
        "#### *   Attributes: 18 columns"
      ],
      "metadata": {
        "id": "jNdMoCV4yPfJ"
      }
    },
    {
      "cell_type": "code",
      "source": [
        "import pandas as pd\n",
        "from kagglehub import KaggleDatasetAdapter\n",
        "\n",
        "path = 'student_depression_dataset.csv'\n",
        "raw_data = kagglehub.dataset_load(KaggleDatasetAdapter.PANDAS,\n",
        "  \"adilshamim8/student-depression-dataset\", path)\n",
        "\n",
        "print('Number of attributes: ', raw_data.shape[1])"
      ],
      "metadata": {
        "colab": {
          "base_uri": "https://localhost:8080/"
        },
        "id": "H0Ygw0irbh1C",
        "outputId": "841c0540-56ed-449a-b932-5c9d3990d8e3"
      },
      "execution_count": 19,
      "outputs": [
        {
          "output_type": "stream",
          "name": "stdout",
          "text": [
            "Using Colab cache for faster access to the 'student-depression-dataset' dataset.\n",
            "Number of attributes:  18\n"
          ]
        }
      ]
    },
    {
      "cell_type": "markdown",
      "source": [
        "\n",
        "\n",
        "#### *   Data type of each attribute:\n",
        "- Intger (id, Depression)\n",
        "\n",
        "- Float (Age, Academic Pressure, Work Pressure, CGPA, Study Satisfaction, Job Satisfaction, Work/Study Hours)\n",
        "\n",
        "- Object (Gender, City, Profession, Sleep Duration, Dietary Habits, Degree, Have you ever had suicidal thoughts ?, Financial Stress, Family History of Mental Illness)\n",
        "\n"
      ],
      "metadata": {
        "id": "J8BiFmBUw2-M"
      }
    },
    {
      "cell_type": "code",
      "source": [
        "print ('Data types of attributes: \\n',)\n",
        "raw_data.info()"
      ],
      "metadata": {
        "id": "9ztJeWSi1u2U",
        "outputId": "89872fac-2e3b-458a-ab6a-96b443fdeb80",
        "colab": {
          "base_uri": "https://localhost:8080/"
        }
      },
      "execution_count": 20,
      "outputs": [
        {
          "output_type": "stream",
          "name": "stdout",
          "text": [
            "Data types of attributes: \n",
            "\n",
            "<class 'pandas.core.frame.DataFrame'>\n",
            "RangeIndex: 27901 entries, 0 to 27900\n",
            "Data columns (total 18 columns):\n",
            " #   Column                                 Non-Null Count  Dtype  \n",
            "---  ------                                 --------------  -----  \n",
            " 0   id                                     27901 non-null  int64  \n",
            " 1   Gender                                 27901 non-null  object \n",
            " 2   Age                                    27901 non-null  float64\n",
            " 3   City                                   27901 non-null  object \n",
            " 4   Profession                             27901 non-null  object \n",
            " 5   Academic Pressure                      27901 non-null  float64\n",
            " 6   Work Pressure                          27901 non-null  float64\n",
            " 7   CGPA                                   27901 non-null  float64\n",
            " 8   Study Satisfaction                     27901 non-null  float64\n",
            " 9   Job Satisfaction                       27901 non-null  float64\n",
            " 10  Sleep Duration                         27901 non-null  object \n",
            " 11  Dietary Habits                         27901 non-null  object \n",
            " 12  Degree                                 27901 non-null  object \n",
            " 13  Have you ever had suicidal thoughts ?  27901 non-null  object \n",
            " 14  Work/Study Hours                       27901 non-null  float64\n",
            " 15  Financial Stress                       27901 non-null  object \n",
            " 16  Family History of Mental Illness       27901 non-null  object \n",
            " 17  Depression                             27901 non-null  int64  \n",
            "dtypes: float64(7), int64(2), object(9)\n",
            "memory usage: 3.8+ MB\n"
          ]
        }
      ]
    },
    {
      "cell_type": "markdown",
      "source": [
        "#### *   Objects: 27901 rows"
      ],
      "metadata": {
        "id": "ry579eMYyyOm"
      }
    },
    {
      "cell_type": "code",
      "source": [
        "print('Number of objects: ', raw_data.shape[0])"
      ],
      "metadata": {
        "colab": {
          "base_uri": "https://localhost:8080/"
        },
        "id": "1fcM4MOBb-3h",
        "outputId": "f1b3dea1-c6b7-406b-ba55-b058c5c79100"
      },
      "execution_count": 21,
      "outputs": [
        {
          "output_type": "stream",
          "name": "stdout",
          "text": [
            "Number of objects:  27901\n"
          ]
        }
      ]
    },
    {
      "cell_type": "markdown",
      "source": [
        "#### *   Class attribute: Depression 2 labels (0 = No Depression, 1 = Depression)"
      ],
      "metadata": {
        "id": "-9T88Yfry5CD"
      }
    },
    {
      "cell_type": "code",
      "source": [
        "# 0 = No Depression, 1 = Depression\n",
        "Depression_count = raw_data['Depression'].value_counts()\n",
        "print('Count of each label of the class attribute (Depression): \\n \\n', Depression_count)"
      ],
      "metadata": {
        "colab": {
          "base_uri": "https://localhost:8080/"
        },
        "id": "UQp5TfAtcU41",
        "outputId": "0780e567-fdea-465f-d72c-4fd53fb6a71c"
      },
      "execution_count": 22,
      "outputs": [
        {
          "output_type": "stream",
          "name": "stdout",
          "text": [
            "Count of each label of the class attribute (Depression): \n",
            " \n",
            " Depression\n",
            "1    16336\n",
            "0    11565\n",
            "Name: count, dtype: int64\n"
          ]
        }
      ]
    },
    {
      "cell_type": "markdown",
      "source": [
        "\n",
        "#### *   Sample of 500 objects randomly selected:\n"
      ],
      "metadata": {
        "id": "7kh3krlzzcfS"
      }
    },
    {
      "cell_type": "code",
      "source": [
        "#Sample of 500 student\n",
        "Depression_sample= raw_data.sample(n=500, random_state=1)\n",
        "print(Depression_sample)"
      ],
      "metadata": {
        "colab": {
          "base_uri": "https://localhost:8080/"
        },
        "id": "VzFWHM5acySJ",
        "outputId": "96e786b9-0abd-4114-fae9-453a3f319356"
      },
      "execution_count": 23,
      "outputs": [
        {
          "output_type": "stream",
          "name": "stdout",
          "text": [
            "           id  Gender   Age       City Profession  Academic Pressure  \\\n",
            "9176    46312  Female  19.0    Lucknow    Student                5.0   \n",
            "3456    17313    Male  34.0  Ahmedabad    Student                2.0   \n",
            "12221   61739    Male  28.0     Kanpur    Student                3.0   \n",
            "25762  129847  Female  18.0     Indore    Student                4.0   \n",
            "23828  120034    Male  34.0  Ahmedabad    Student                2.0   \n",
            "...       ...     ...   ...        ...        ...                ...   \n",
            "8165    41132  Female  33.0       Pune    Student                2.0   \n",
            "8439    42487  Female  19.0     Nashik    Student                1.0   \n",
            "21466  108445  Female  34.0      Patna    Student                1.0   \n",
            "12478   63109    Male  18.0     Nashik    Student                5.0   \n",
            "3832    19164    Male  27.0      Delhi    Student                4.0   \n",
            "\n",
            "       Work Pressure  CGPA  Study Satisfaction  Job Satisfaction  \\\n",
            "9176             0.0  6.16                 3.0               0.0   \n",
            "3456             0.0  8.74                 3.0               0.0   \n",
            "12221            0.0  6.16                 1.0               0.0   \n",
            "25762            0.0  8.74                 4.0               0.0   \n",
            "23828            0.0  5.88                 2.0               0.0   \n",
            "...              ...   ...                 ...               ...   \n",
            "8165             0.0  8.95                 5.0               0.0   \n",
            "8439             0.0  8.58                 1.0               0.0   \n",
            "21466            0.0  9.96                 1.0               0.0   \n",
            "12478            0.0  6.86                 2.0               0.0   \n",
            "3832             0.0  5.37                 2.0               0.0   \n",
            "\n",
            "            Sleep Duration Dietary Habits      Degree  \\\n",
            "9176           '7-8 hours'        Healthy  'Class 12'   \n",
            "3456   'Less than 5 hours'      Unhealthy         MCA   \n",
            "12221          '7-8 hours'       Moderate        B.Ed   \n",
            "25762  'More than 8 hours'       Moderate  'Class 12'   \n",
            "23828  'More than 8 hours'      Unhealthy      B.Tech   \n",
            "...                    ...            ...         ...   \n",
            "8165   'Less than 5 hours'        Healthy        B.Ed   \n",
            "8439   'Less than 5 hours'        Healthy  'Class 12'   \n",
            "21466          '5-6 hours'        Healthy        B.Ed   \n",
            "12478  'Less than 5 hours'      Unhealthy  'Class 12'   \n",
            "3832   'More than 8 hours'        Healthy          MA   \n",
            "\n",
            "      Have you ever had suicidal thoughts ?  Work/Study Hours  \\\n",
            "9176                                    Yes               2.0   \n",
            "3456                                    Yes              11.0   \n",
            "12221                                   Yes              10.0   \n",
            "25762                                   Yes              10.0   \n",
            "23828                                    No               0.0   \n",
            "...                                     ...               ...   \n",
            "8165                                    Yes               5.0   \n",
            "8439                                    Yes              12.0   \n",
            "21466                                    No               6.0   \n",
            "12478                                   Yes               8.0   \n",
            "3832                                     No               5.0   \n",
            "\n",
            "      Financial Stress Family History of Mental Illness  Depression  \n",
            "9176               3.0                              Yes           0  \n",
            "3456               5.0                              Yes           1  \n",
            "12221              1.0                              Yes           1  \n",
            "25762              5.0                              Yes           1  \n",
            "23828              2.0                               No           0  \n",
            "...                ...                              ...         ...  \n",
            "8165               4.0                              Yes           1  \n",
            "8439               3.0                              Yes           0  \n",
            "21466              2.0                               No           0  \n",
            "12478              4.0                               No           1  \n",
            "3832               4.0                              Yes           0  \n",
            "\n",
            "[500 rows x 18 columns]\n"
          ]
        }
      ]
    }
  ]
}