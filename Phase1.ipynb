{
  "nbformat": 4,
  "nbformat_minor": 0,
  "metadata": {
    "colab": {
      "provenance": [],
      "include_colab_link": true
    },
    "kernelspec": {
      "name": "python3",
      "display_name": "Python 3"
    },
    "language_info": {
      "name": "python"
    }
  },
  "cells": [
    {
      "cell_type": "markdown",
      "metadata": {
        "id": "view-in-github",
        "colab_type": "text"
      },
      "source": [
        "<a href=\"https://colab.research.google.com/github/Deem-KSU/IT326-Group1-56546/blob/main/Phase1.ipynb\" target=\"_parent\"><img src=\"https://colab.research.google.com/assets/colab-badge.svg\" alt=\"Open In Colab\"/></a>"
      ]
    },
    {
      "cell_type": "markdown",
      "source": [
        "**Project Goal:** The goal of this project is to use data mining techniques on the Student Depression Dataset.\n",
        "Classification Task – Predict whether a student is depressed or not ( 0 = No Depression, 1 = Depression) based on different features such as academic, social, and lifestyle factors.\n",
        "Clustering Task – Group students into clusters with similar characteristics. This can help in finding hidden patterns and risk factors related to student depression.\n",
        "\n",
        "The project will provide insights that may support early detection and awareness of student depression.\n",
        "\n",
        "\n",
        "**Dataset Source:** The dataset used in this project is the Student Depression Dataset, which was obtained from Kaggle.  https://www.kaggle.com/datasets/adilshamim8/student-depression-dataset\n",
        "\n",
        "**Dataset Description:**\n",
        "*   Attributes:  18 columns\n",
        "1.   ID (Nominal).\n",
        "2.   Gender (Symmetric binary) .\n",
        "3.   Age (Ratio numeric).\n",
        "4.   City (Nominal).\n",
        "5.   Profession (Nominal).\n",
        "6.   Academic Pressure (Ratio numeric).\n",
        "7.   Work Pressure (Ratio numeric).\n",
        "8.   CGPA (Ratio numeric).\n",
        "9.   Study Satisfaction (Ratio numeric).\n",
        "10.  Job Satisfaction (Ratio numeric).\n",
        "11.  Sleep Duration (Ordinal).\n",
        "12.  Dietary Habits (Ordinal).\n",
        "13.  Degree (Nominal).\n",
        "14.  Have you ever had suicidal thoughts ? (Asymmetric binary).\n",
        "15.  Work/Study Hours (Ratio numeric).\n",
        "16.  Financial Stress (Ratio numeric).\n",
        "17.  Family History of Mental Illness (Asymmetric binary).\n",
        "18. Depression (Asymmetric binary).\n",
        "\n",
        "\n",
        "*   Objects: 27901 rows\n",
        "\n",
        "*   Class attribute: Depression (0 = No Depression, 1 = Depression)\n",
        "\n"
      ],
      "metadata": {
        "id": "jNdMoCV4yPfJ"
      }
    },
    {
      "cell_type": "code",
      "source": [
        "import pandas as pd\n",
        "SD=pd.read_csv('student_depression_dataset.csv')\n",
        "student_data=pd.DataFrame(SD)\n",
        "print('Number of attributes: ', student_data.shape[1])"
      ],
      "metadata": {
        "colab": {
          "base_uri": "https://localhost:8080/"
        },
        "id": "H0Ygw0irbh1C",
        "outputId": "b91cc1af-cd39-4555-e53c-652911c44d2c"
      },
      "execution_count": 15,
      "outputs": [
        {
          "output_type": "stream",
          "name": "stdout",
          "text": [
            "Number of attributes:  18\n"
          ]
        }
      ]
    },
    {
      "cell_type": "code",
      "source": [
        "student_data.info()"
      ],
      "metadata": {
        "id": "9ztJeWSi1u2U",
        "outputId": "1c96b95b-4301-497c-8660-c23d900b8dec",
        "colab": {
          "base_uri": "https://localhost:8080/"
        }
      },
      "execution_count": 14,
      "outputs": [
        {
          "output_type": "stream",
          "name": "stdout",
          "text": [
            "<class 'pandas.core.frame.DataFrame'>\n",
            "RangeIndex: 27901 entries, 0 to 27900\n",
            "Data columns (total 18 columns):\n",
            " #   Column                                 Non-Null Count  Dtype  \n",
            "---  ------                                 --------------  -----  \n",
            " 0   id                                     27901 non-null  int64  \n",
            " 1   Gender                                 27901 non-null  object \n",
            " 2   Age                                    27901 non-null  float64\n",
            " 3   City                                   27901 non-null  object \n",
            " 4   Profession                             27901 non-null  object \n",
            " 5   Academic Pressure                      27901 non-null  float64\n",
            " 6   Work Pressure                          27901 non-null  float64\n",
            " 7   CGPA                                   27901 non-null  float64\n",
            " 8   Study Satisfaction                     27901 non-null  float64\n",
            " 9   Job Satisfaction                       27901 non-null  float64\n",
            " 10  Sleep Duration                         27901 non-null  object \n",
            " 11  Dietary Habits                         27901 non-null  object \n",
            " 12  Degree                                 27901 non-null  object \n",
            " 13  Have you ever had suicidal thoughts ?  27901 non-null  object \n",
            " 14  Work/Study Hours                       27901 non-null  float64\n",
            " 15  Financial Stress                       27901 non-null  object \n",
            " 16  Family History of Mental Illness       27901 non-null  object \n",
            " 17  Depression                             27901 non-null  int64  \n",
            "dtypes: float64(7), int64(2), object(9)\n",
            "memory usage: 3.8+ MB\n"
          ]
        }
      ]
    },
    {
      "cell_type": "code",
      "source": [
        "print('Number of objects: ', student_data.shape[0])"
      ],
      "metadata": {
        "colab": {
          "base_uri": "https://localhost:8080/"
        },
        "id": "1fcM4MOBb-3h",
        "outputId": "6fef9598-6686-4b34-d06b-153919cc81fa"
      },
      "execution_count": 16,
      "outputs": [
        {
          "output_type": "stream",
          "name": "stdout",
          "text": [
            "Number of objects:  27901\n"
          ]
        }
      ]
    },
    {
      "cell_type": "code",
      "source": [
        "Depression_count = student_data['Depression'].value_counts()\n",
        "print(Depression_count)"
      ],
      "metadata": {
        "id": "UQp5TfAtcU41",
        "outputId": "9bbcd76a-5244-4675-9cf1-754f2bfb87bf",
        "colab": {
          "base_uri": "https://localhost:8080/"
        }
      },
      "execution_count": 17,
      "outputs": [
        {
          "output_type": "stream",
          "name": "stdout",
          "text": [
            "Depression\n",
            "1    16336\n",
            "0    11565\n",
            "Name: count, dtype: int64\n"
          ]
        }
      ]
    }
  ]
}