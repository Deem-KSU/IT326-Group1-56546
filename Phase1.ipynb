{
  "nbformat": 4,
  "nbformat_minor": 0,
  "metadata": {
    "colab": {
      "provenance": [],
      "include_colab_link": true
    },
    "kernelspec": {
      "name": "python3",
      "display_name": "Python 3"
    },
    "language_info": {
      "name": "python"
    }
  },
  "cells": [
    {
      "cell_type": "markdown",
      "metadata": {
        "id": "view-in-github",
        "colab_type": "text"
      },
      "source": [
        "<a href=\"https://colab.research.google.com/github/Deem-KSU/IT326-Group1-56546/blob/main/Phase1.ipynb\" target=\"_parent\"><img src=\"https://colab.research.google.com/assets/colab-badge.svg\" alt=\"Open In Colab\"/></a>"
      ]
    },
    {
      "cell_type": "markdown",
      "source": [
        "**Project Goal:** The goal of this project is to use data mining techniques on the Student Depression Dataset.\n",
        "Classification Task – Predict whether a student is depressed or not ( 0 = No Depression, 1 = Depression) based on different features such as academic, social, and lifestyle factors.\n",
        "Clustering Task – Group students into clusters with similar characteristics. This can help in finding hidden patterns and risk factors related to student depression.\n",
        "\n",
        "The project will provide insights that may support early detection and awareness of student depression.\n",
        "\n",
        "\n",
        "**Dataset Source:** The dataset used in this project is the Student Depression Dataset, which was obtained from Kaggle.  https://www.kaggle.com/datasets/adilshamim8/student-depression-dataset\n",
        "\n",
        "**Dataset Description:**\n",
        "*   Attributes:  18 colums\n",
        "1.   ID (Nominal).\n",
        "2.   Gender (Symetric binary) .\n",
        "3.   Age (Ratio numeric).\n",
        "4.   City (Nominal).\n",
        "5.   Profession (Nominal).\n",
        "6.   Academic Pressure\n",
        "7.   Work Pressure\n",
        "8.   CGPA\n",
        "9.   Study Satisfaction\n",
        "10.  Job Satisfaction\n",
        "11.  Sleep Duration\n",
        "12.  Dietary Habits\n",
        "13.  Degree\n",
        "14.  Have you ever had suicidal thoughts ?\n",
        "15.  Work/Study Hours\n",
        "16.  Financial Stress\n",
        "17.  Family History of Mental Illness\n",
        "18. Depression\n",
        "\n",
        "\n",
        "*   Objects:\n",
        "\n",
        "\n",
        "\n"
      ],
      "metadata": {
        "id": "jNdMoCV4yPfJ"
      }
    },
    {
      "cell_type": "code",
      "source": [
        "import pandas as pd\n",
        "SD=pd.read_csv('student.csv')\n",
        "student_data=pd.DataFrame(SD)\n",
        "student_data.info()\n"
      ],
      "metadata": {
        "id": "9ztJeWSi1u2U",
        "outputId": "f997f49b-d669-48b2-ed08-cb735f830f3b",
        "colab": {
          "base_uri": "https://localhost:8080/"
        }
      },
      "execution_count": null,
      "outputs": [
        {
          "output_type": "stream",
          "name": "stdout",
          "text": [
            "<class 'pandas.core.frame.DataFrame'>\n",
            "RangeIndex: 27901 entries, 0 to 27900\n",
            "Data columns (total 18 columns):\n",
            " #   Column                                 Non-Null Count  Dtype  \n",
            "---  ------                                 --------------  -----  \n",
            " 0   id                                     27901 non-null  int64  \n",
            " 1   Gender                                 27901 non-null  object \n",
            " 2   Age                                    27901 non-null  float64\n",
            " 3   City                                   27901 non-null  object \n",
            " 4   Profession                             27901 non-null  object \n",
            " 5   Academic Pressure                      27901 non-null  float64\n",
            " 6   Work Pressure                          27901 non-null  float64\n",
            " 7   CGPA                                   27901 non-null  float64\n",
            " 8   Study Satisfaction                     27901 non-null  float64\n",
            " 9   Job Satisfaction                       27901 non-null  float64\n",
            " 10  Sleep Duration                         27901 non-null  object \n",
            " 11  Dietary Habits                         27901 non-null  object \n",
            " 12  Degree                                 27901 non-null  object \n",
            " 13  Have you ever had suicidal thoughts ?  27901 non-null  object \n",
            " 14  Work/Study Hours                       27901 non-null  float64\n",
            " 15  Financial Stress                       27901 non-null  object \n",
            " 16  Family History of Mental Illness       27901 non-null  object \n",
            " 17  Depression                             27901 non-null  int64  \n",
            "dtypes: float64(7), int64(2), object(9)\n",
            "memory usage: 3.8+ MB\n"
          ]
        }
      ]
    }
  ]
}