{
  "nbformat": 4,
  "nbformat_minor": 0,
  "metadata": {
    "colab": {
      "provenance": [],
      "include_colab_link": true
    },
    "kernelspec": {
      "name": "python3",
      "display_name": "Python 3"
    },
    "language_info": {
      "name": "python"
    }
  },
  "cells": [
    {
      "cell_type": "markdown",
      "metadata": {
        "id": "view-in-github",
        "colab_type": "text"
      },
      "source": [
        "<a href=\"https://colab.research.google.com/github/Deem-KSU/IT326-Group1-56546/blob/main/Phase1.ipynb\" target=\"_parent\"><img src=\"https://colab.research.google.com/assets/colab-badge.svg\" alt=\"Open In Colab\"/></a>"
      ]
    },
    {
      "cell_type": "markdown",
      "source": [
        "**Project Goal:**\n",
        "\n",
        "**Dataset Source:**\n",
        "\n",
        "**Dataset Description:**\n",
        "*   Attributes: 18 colums\n",
        "1.   ID: Unique identifier for each student\n",
        "2.   List ite\n",
        "3.\n",
        "\n",
        "\n",
        "*   Objects:\n",
        "\n",
        "\n",
        "\n"
      ],
      "metadata": {
        "id": "jNdMoCV4yPfJ"
      }
    }
  ]
}